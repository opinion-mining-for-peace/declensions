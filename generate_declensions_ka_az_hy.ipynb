{
  "nbformat": 4,
  "nbformat_minor": 0,
  "metadata": {
    "colab": {
      "name": "generate-declensions-ka-az-hy",
      "provenance": [],
      "collapsed_sections": []
    },
    "kernelspec": {
      "name": "python3",
      "display_name": "Python 3"
    },
    "language_info": {
      "name": "python"
    }
  },
  "cells": [
    {
      "cell_type": "code",
      "metadata": {
        "id": "CsjVrgOYZrGu",
        "colab": {
          "base_uri": "https://localhost:8080/",
          "height": 790
        },
        "cellView": "form",
        "outputId": "242a3519-1b14-4a03-a2dc-243be7edaa13"
      },
      "source": [
        "#@title Please fill the form below\n",
        "\n",
        "#@markdown Please input comma separated list of keywords. eg: მთიანი-ყარაბაღი,აფხაზეთი,სამხრეთ ოსეთი  \n",
        "keywords = \"\\u10DB\\u10D7\\u10D8\\u10D0\\u10DC\\u10D8-\\u10E7\\u10D0\\u10E0\\u10D0\\u10D1\\u10D0\\u10E6\\u10D8,\\u10D0\\u10E4\\u10EE\\u10D0\\u10D6\\u10D4\\u10D7\\u10D8,\\u10E1\\u10D0\\u10DB\\u10EE\\u10E0\\u10D4\\u10D7 \\u10DD\\u10E1\\u10D4\\u10D7\\u10D8\" #@param {type:\"string\"}\n",
        "!git clone https://github.com/opinion-mining-for-peace/declensions.git > /dev/null 2>&1\n",
        "!pip install langid > /dev/null 2>&1\n",
        "\n",
        "import langid\n",
        "from declensions.declensions import get_declensions\n",
        "import itertools\n",
        "import pandas as pd\n",
        "from datetime import datetime\n",
        "\n",
        "from IPython.display import HTML\n",
        "import base64\n",
        "\n",
        "declensions = [[[i.strip(), k] for k in get_declensions([i.strip()], 'ka')] for i in keywords.split(',')]\n",
        "declensions_ = list(itertools.chain.from_iterable(declensions))\n",
        "df = pd.DataFrame(declensions_, columns=[\"Keyword\", \"Declensions\"])\n",
        "\n",
        "def create_download_link( title = \"Download the results\", filename = \"generated-declensions-{}.csv\".format(datetime.now().strftime('%Y-%m-%d-%H-%M'))):  \n",
        "    csv = df.to_csv()\n",
        "    b64 = base64.b64encode(csv.encode())\n",
        "    payload = b64.decode()\n",
        "    html = '<a download=\"{filename}\" href=\"data:text/csv;base64,{payload}\" target=\"_blank\">{title}</a>'\n",
        "    html = html.format(payload=payload,title=title,filename=filename)\n",
        "    return HTML(html)\n",
        "\n",
        "# display(df.head(/))/\n",
        "for i, row in df.iterrows():\n",
        "    print(row.Keyword , row.Declensions)\n",
        "    \n",
        "create_download_link()"
      ],
      "execution_count": 36,
      "outputs": [
        {
          "output_type": "stream",
          "text": [
            "მთიანი-ყარაბაღი მთიანი-ყარაბაღი\n",
            "მთიანი-ყარაბაღი მთიანი-ყარაბაღივით\n",
            "მთიანი-ყარაბაღი მთიანი-ყარაბაღმა\n",
            "მთიანი-ყარაბაღი მთიანი-ყარაბაღისავით\n",
            "მთიანი-ყარაბაღი მთიანი-ყარაბაღთან\n",
            "მთიანი-ყარაბაღი მთიანი-ყარაბაღზე\n",
            "მთიანი-ყარაბაღი მთიანი-ყარაბაღში\n",
            "მთიანი-ყარაბაღი მთიანი-ყარაბაღის\n",
            "მთიანი-ყარაბაღი მთიანი-ყარაბაღისთვის\n",
            "მთიანი-ყარაბაღი მთიანი-ყარაბაღისგან\n",
            "მთიანი-ყარაბაღი მთიანი-ყარაბაღისკენ\n",
            "მთიანი-ყარაბაღი მთიანი-ყარაბაღისებრ\n",
            "მთიანი-ყარაბაღი მთიანი-ყარაბაღისგამო\n",
            "მთიანი-ყარაბაღი მთიანი-ყარაბაღისმიერ\n",
            "მთიანი-ყარაბაღი მთიანი-ყარაბაღით\n",
            "აფხაზეთი აფხაზეთი\n",
            "აფხაზეთი აფხაზეთივით\n",
            "აფხაზეთი აფხაზეთმა\n",
            "აფხაზეთი აფხაზეთისავით\n",
            "აფხაზეთი აფხაზეთთან\n",
            "აფხაზეთი აფხაზეთზე\n",
            "აფხაზეთი აფხაზეთში\n",
            "აფხაზეთი აფხაზეთის\n",
            "აფხაზეთი აფხაზეთისთვის\n",
            "აფხაზეთი აფხაზეთისგან\n",
            "აფხაზეთი აფხაზეთისკენ\n",
            "აფხაზეთი აფხაზეთისებრ\n",
            "აფხაზეთი აფხაზეთისგამო\n",
            "აფხაზეთი აფხაზეთისმიერ\n",
            "აფხაზეთი აფხაზეთით\n",
            "სამხრეთ ოსეთი სამხრეთ ოსეთი\n",
            "სამხრეთ ოსეთი სამხრეთ ოსეთივით\n",
            "სამხრეთ ოსეთი სამხრეთ ოსეთმა\n",
            "სამხრეთ ოსეთი სამხრეთ ოსეთისავით\n",
            "სამხრეთ ოსეთი სამხრეთ ოსეთთან\n",
            "სამხრეთ ოსეთი სამხრეთ ოსეთზე\n",
            "სამხრეთ ოსეთი სამხრეთ ოსეთში\n",
            "სამხრეთ ოსეთი სამხრეთ ოსეთის\n",
            "სამხრეთ ოსეთი სამხრეთ ოსეთისთვის\n",
            "სამხრეთ ოსეთი სამხრეთ ოსეთისგან\n",
            "სამხრეთ ოსეთი სამხრეთ ოსეთისკენ\n",
            "სამხრეთ ოსეთი სამხრეთ ოსეთისებრ\n",
            "სამხრეთ ოსეთი სამხრეთ ოსეთისგამო\n",
            "სამხრეთ ოსეთი სამხრეთ ოსეთისმიერ\n",
            "სამხრეთ ოსეთი სამხრეთ ოსეთით\n"
          ],
          "name": "stdout"
        },
        {
          "output_type": "execute_result",
          "data": {
            "text/html": [
              "<a download=\"generated-declensions-2021-06-17-15-09.csv\" href=\"data:text/csv;base64,LEtleXdvcmQsRGVjbGVuc2lvbnMKMCzhg5vhg5fhg5jhg5Dhg5zhg5gt4YOn4YOQ4YOg4YOQ4YOR4YOQ4YOm4YOYLOGDm+GDl+GDmOGDkOGDnOGDmC3hg6fhg5Dhg6Dhg5Dhg5Hhg5Dhg6bhg5gKMSzhg5vhg5fhg5jhg5Dhg5zhg5gt4YOn4YOQ4YOg4YOQ4YOR4YOQ4YOm4YOYLOGDm+GDl+GDmOGDkOGDnOGDmC3hg6fhg5Dhg6Dhg5Dhg5Hhg5Dhg6bhg5jhg5Xhg5jhg5cKMizhg5vhg5fhg5jhg5Dhg5zhg5gt4YOn4YOQ4YOg4YOQ4YOR4YOQ4YOm4YOYLOGDm+GDl+GDmOGDkOGDnOGDmC3hg6fhg5Dhg6Dhg5Dhg5Hhg5Dhg6bhg5vhg5AKMyzhg5vhg5fhg5jhg5Dhg5zhg5gt4YOn4YOQ4YOg4YOQ4YOR4YOQ4YOm4YOYLOGDm+GDl+GDmOGDkOGDnOGDmC3hg6fhg5Dhg6Dhg5Dhg5Hhg5Dhg6bhg5jhg6Hhg5Dhg5Xhg5jhg5cKNCzhg5vhg5fhg5jhg5Dhg5zhg5gt4YOn4YOQ4YOg4YOQ4YOR4YOQ4YOm4YOYLOGDm+GDl+GDmOGDkOGDnOGDmC3hg6fhg5Dhg6Dhg5Dhg5Hhg5Dhg6bhg5fhg5Dhg5wKNSzhg5vhg5fhg5jhg5Dhg5zhg5gt4YOn4YOQ4YOg4YOQ4YOR4YOQ4YOm4YOYLOGDm+GDl+GDmOGDkOGDnOGDmC3hg6fhg5Dhg6Dhg5Dhg5Hhg5Dhg6bhg5bhg5QKNizhg5vhg5fhg5jhg5Dhg5zhg5gt4YOn4YOQ4YOg4YOQ4YOR4YOQ4YOm4YOYLOGDm+GDl+GDmOGDkOGDnOGDmC3hg6fhg5Dhg6Dhg5Dhg5Hhg5Dhg6bhg6jhg5gKNyzhg5vhg5fhg5jhg5Dhg5zhg5gt4YOn4YOQ4YOg4YOQ4YOR4YOQ4YOm4YOYLOGDm+GDl+GDmOGDkOGDnOGDmC3hg6fhg5Dhg6Dhg5Dhg5Hhg5Dhg6bhg5jhg6EKOCzhg5vhg5fhg5jhg5Dhg5zhg5gt4YOn4YOQ4YOg4YOQ4YOR4YOQ4YOm4YOYLOGDm+GDl+GDmOGDkOGDnOGDmC3hg6fhg5Dhg6Dhg5Dhg5Hhg5Dhg6bhg5jhg6Hhg5fhg5Xhg5jhg6EKOSzhg5vhg5fhg5jhg5Dhg5zhg5gt4YOn4YOQ4YOg4YOQ4YOR4YOQ4YOm4YOYLOGDm+GDl+GDmOGDkOGDnOGDmC3hg6fhg5Dhg6Dhg5Dhg5Hhg5Dhg6bhg5jhg6Hhg5Lhg5Dhg5wKMTAs4YOb4YOX4YOY4YOQ4YOc4YOYLeGDp+GDkOGDoOGDkOGDkeGDkOGDpuGDmCzhg5vhg5fhg5jhg5Dhg5zhg5gt4YOn4YOQ4YOg4YOQ4YOR4YOQ4YOm4YOY4YOh4YOZ4YOU4YOcCjExLOGDm+GDl+GDmOGDkOGDnOGDmC3hg6fhg5Dhg6Dhg5Dhg5Hhg5Dhg6bhg5gs4YOb4YOX4YOY4YOQ4YOc4YOYLeGDp+GDkOGDoOGDkOGDkeGDkOGDpuGDmOGDoeGDlOGDkeGDoAoxMizhg5vhg5fhg5jhg5Dhg5zhg5gt4YOn4YOQ4YOg4YOQ4YOR4YOQ4YOm4YOYLOGDm+GDl+GDmOGDkOGDnOGDmC3hg6fhg5Dhg6Dhg5Dhg5Hhg5Dhg6bhg5jhg6Hhg5Lhg5Dhg5vhg50KMTMs4YOb4YOX4YOY4YOQ4YOc4YOYLeGDp+GDkOGDoOGDkOGDkeGDkOGDpuGDmCzhg5vhg5fhg5jhg5Dhg5zhg5gt4YOn4YOQ4YOg4YOQ4YOR4YOQ4YOm4YOY4YOh4YOb4YOY4YOU4YOgCjE0LOGDm+GDl+GDmOGDkOGDnOGDmC3hg6fhg5Dhg6Dhg5Dhg5Hhg5Dhg6bhg5gs4YOb4YOX4YOY4YOQ4YOc4YOYLeGDp+GDkOGDoOGDkOGDkeGDkOGDpuGDmOGDlwoxNSzhg5Dhg6Thg67hg5Dhg5bhg5Thg5fhg5gs4YOQ4YOk4YOu4YOQ4YOW4YOU4YOX4YOYCjE2LOGDkOGDpOGDruGDkOGDluGDlOGDl+GDmCzhg5Dhg6Thg67hg5Dhg5bhg5Thg5fhg5jhg5Xhg5jhg5cKMTcs4YOQ4YOk4YOu4YOQ4YOW4YOU4YOX4YOYLOGDkOGDpOGDruGDkOGDluGDlOGDl+GDm+GDkAoxOCzhg5Dhg6Thg67hg5Dhg5bhg5Thg5fhg5gs4YOQ4YOk4YOu4YOQ4YOW4YOU4YOX4YOY4YOh4YOQ4YOV4YOY4YOXCjE5LOGDkOGDpOGDruGDkOGDluGDlOGDl+GDmCzhg5Dhg6Thg67hg5Dhg5bhg5Thg5fhg5fhg5Dhg5wKMjAs4YOQ4YOk4YOu4YOQ4YOW4YOU4YOX4YOYLOGDkOGDpOGDruGDkOGDluGDlOGDl+GDluGDlAoyMSzhg5Dhg6Thg67hg5Dhg5bhg5Thg5fhg5gs4YOQ4YOk4YOu4YOQ4YOW4YOU4YOX4YOo4YOYCjIyLOGDkOGDpOGDruGDkOGDluGDlOGDl+GDmCzhg5Dhg6Thg67hg5Dhg5bhg5Thg5fhg5jhg6EKMjMs4YOQ4YOk4YOu4YOQ4YOW4YOU4YOX4YOYLOGDkOGDpOGDruGDkOGDluGDlOGDl+GDmOGDoeGDl+GDleGDmOGDoQoyNCzhg5Dhg6Thg67hg5Dhg5bhg5Thg5fhg5gs4YOQ4YOk4YOu4YOQ4YOW4YOU4YOX4YOY4YOh4YOS4YOQ4YOcCjI1LOGDkOGDpOGDruGDkOGDluGDlOGDl+GDmCzhg5Dhg6Thg67hg5Dhg5bhg5Thg5fhg5jhg6Hhg5nhg5Thg5wKMjYs4YOQ4YOk4YOu4YOQ4YOW4YOU4YOX4YOYLOGDkOGDpOGDruGDkOGDluGDlOGDl+GDmOGDoeGDlOGDkeGDoAoyNyzhg5Dhg6Thg67hg5Dhg5bhg5Thg5fhg5gs4YOQ4YOk4YOu4YOQ4YOW4YOU4YOX4YOY4YOh4YOS4YOQ4YOb4YOdCjI4LOGDkOGDpOGDruGDkOGDluGDlOGDl+GDmCzhg5Dhg6Thg67hg5Dhg5bhg5Thg5fhg5jhg6Hhg5vhg5jhg5Thg6AKMjks4YOQ4YOk4YOu4YOQ4YOW4YOU4YOX4YOYLOGDkOGDpOGDruGDkOGDluGDlOGDl+GDmOGDlwozMCzhg6Hhg5Dhg5vhg67hg6Dhg5Thg5cg4YOd4YOh4YOU4YOX4YOYLOGDoeGDkOGDm+GDruGDoOGDlOGDlyDhg53hg6Hhg5Thg5fhg5gKMzEs4YOh4YOQ4YOb4YOu4YOg4YOU4YOXIOGDneGDoeGDlOGDl+GDmCzhg6Hhg5Dhg5vhg67hg6Dhg5Thg5cg4YOd4YOh4YOU4YOX4YOY4YOV4YOY4YOXCjMyLOGDoeGDkOGDm+GDruGDoOGDlOGDlyDhg53hg6Hhg5Thg5fhg5gs4YOh4YOQ4YOb4YOu4YOg4YOU4YOXIOGDneGDoeGDlOGDl+GDm+GDkAozMyzhg6Hhg5Dhg5vhg67hg6Dhg5Thg5cg4YOd4YOh4YOU4YOX4YOYLOGDoeGDkOGDm+GDruGDoOGDlOGDlyDhg53hg6Hhg5Thg5fhg5jhg6Hhg5Dhg5Xhg5jhg5cKMzQs4YOh4YOQ4YOb4YOu4YOg4YOU4YOXIOGDneGDoeGDlOGDl+GDmCzhg6Hhg5Dhg5vhg67hg6Dhg5Thg5cg4YOd4YOh4YOU4YOX4YOX4YOQ4YOcCjM1LOGDoeGDkOGDm+GDruGDoOGDlOGDlyDhg53hg6Hhg5Thg5fhg5gs4YOh4YOQ4YOb4YOu4YOg4YOU4YOXIOGDneGDoeGDlOGDl+GDluGDlAozNizhg6Hhg5Dhg5vhg67hg6Dhg5Thg5cg4YOd4YOh4YOU4YOX4YOYLOGDoeGDkOGDm+GDruGDoOGDlOGDlyDhg53hg6Hhg5Thg5fhg6jhg5gKMzcs4YOh4YOQ4YOb4YOu4YOg4YOU4YOXIOGDneGDoeGDlOGDl+GDmCzhg6Hhg5Dhg5vhg67hg6Dhg5Thg5cg4YOd4YOh4YOU4YOX4YOY4YOhCjM4LOGDoeGDkOGDm+GDruGDoOGDlOGDlyDhg53hg6Hhg5Thg5fhg5gs4YOh4YOQ4YOb4YOu4YOg4YOU4YOXIOGDneGDoeGDlOGDl+GDmOGDoeGDl+GDleGDmOGDoQozOSzhg6Hhg5Dhg5vhg67hg6Dhg5Thg5cg4YOd4YOh4YOU4YOX4YOYLOGDoeGDkOGDm+GDruGDoOGDlOGDlyDhg53hg6Hhg5Thg5fhg5jhg6Hhg5Lhg5Dhg5wKNDAs4YOh4YOQ4YOb4YOu4YOg4YOU4YOXIOGDneGDoeGDlOGDl+GDmCzhg6Hhg5Dhg5vhg67hg6Dhg5Thg5cg4YOd4YOh4YOU4YOX4YOY4YOh4YOZ4YOU4YOcCjQxLOGDoeGDkOGDm+GDruGDoOGDlOGDlyDhg53hg6Hhg5Thg5fhg5gs4YOh4YOQ4YOb4YOu4YOg4YOU4YOXIOGDneGDoeGDlOGDl+GDmOGDoeGDlOGDkeGDoAo0Mizhg6Hhg5Dhg5vhg67hg6Dhg5Thg5cg4YOd4YOh4YOU4YOX4YOYLOGDoeGDkOGDm+GDruGDoOGDlOGDlyDhg53hg6Hhg5Thg5fhg5jhg6Hhg5Lhg5Dhg5vhg50KNDMs4YOh4YOQ4YOb4YOu4YOg4YOU4YOXIOGDneGDoeGDlOGDl+GDmCzhg6Hhg5Dhg5vhg67hg6Dhg5Thg5cg4YOd4YOh4YOU4YOX4YOY4YOh4YOb4YOY4YOU4YOgCjQ0LOGDoeGDkOGDm+GDruGDoOGDlOGDlyDhg53hg6Hhg5Thg5fhg5gs4YOh4YOQ4YOb4YOu4YOg4YOU4YOXIOGDneGDoeGDlOGDl+GDmOGDlwo=\" target=\"_blank\">Download the results</a>"
            ],
            "text/plain": [
              "<IPython.core.display.HTML object>"
            ]
          },
          "metadata": {
            "tags": []
          },
          "execution_count": 36
        }
      ]
    }
  ]
}